{
 "cells": [
  {
   "cell_type": "code",
   "execution_count": 1,
   "id": "4da0d881",
   "metadata": {},
   "outputs": [],
   "source": [
    "#step 1\n",
    "import pandas as pd\n",
    "import numpy as np\n",
    "import matplotlib.pyplot as plt\n",
    "import sklearn as sk\n",
    "from sklearn.model_selection import train_test_split\n",
    "from sklearn.tree import DecisionTreeClassifier"
   ]
  },
  {
   "cell_type": "code",
   "execution_count": 1496,
   "id": "4905a38c",
   "metadata": {},
   "outputs": [],
   "source": [
    "#step 2"
   ]
  },
  {
   "cell_type": "code",
   "execution_count": 7,
   "id": "d0b973da",
   "metadata": {},
   "outputs": [],
   "source": [
    "data = pd.read_csv('clean_data.csv')"
   ]
  },
  {
   "cell_type": "code",
   "execution_count": 8,
   "id": "a409a946",
   "metadata": {
    "scrolled": true
   },
   "outputs": [
    {
     "name": "stdout",
     "output_type": "stream",
     "text": [
      "First 5 rows of the DataFrame:\n",
      "\n",
      "             id       screen_name                   location  \\\n",
      "0  8.160000e+17  \"HoustonPokeMap\"              \"Houston, TX\"   \n",
      "1  4.843621e+09         kernyeahx  Templeville town, MD, USA   \n",
      "2  4.303727e+09   mattlieberisbot                        NaN   \n",
      "3  3.063139e+09         sc_papers                        NaN   \n",
      "4  2.955142e+09      lucarivera16      Dublin, United States   \n",
      "\n",
      "                                         description  \\\n",
      "0  \"Rare and strong PokŽmon in Houston, TX. See m...   \n",
      "1  From late 2014 Socium Marketplace will make sh...   \n",
      "2  Inspired by the smart, funny folks at @replyal...   \n",
      "3                                                NaN   \n",
      "4             Inspiring cooks everywhere since 1956.   \n",
      "\n",
      "                         url  followers_count  friends_count  listed_count  \\\n",
      "0  \"https://t.co/dnWuDbFRkt\"             1291              0            10   \n",
      "1                        NaN                1            349             0   \n",
      "2    https://t.co/P1e1o0m4KC             1086              0            14   \n",
      "3                        NaN               33              0             8   \n",
      "4                        NaN               11            745             0   \n",
      "\n",
      "                         created_at  favourites_count  verified  \\\n",
      "0  \"Mon Jan 02 02:25:26 +0000 2017\"                 0     False   \n",
      "1                     2/1/2016 7:37                38     False   \n",
      "2    Fri Nov 20 18:53:22 +0000 2015                 0     False   \n",
      "3                   2/25/2015 20:11                 0     False   \n",
      "4                    1/1/2015 17:44               146     False   \n",
      "\n",
      "   statuses_count  lang                                             status  \\\n",
      "0           78554  \"en\"  {\\n      \"created_at\": \"Sun Mar 12 15:44:04 +0...   \n",
      "1              31    en                                                NaN   \n",
      "2             713    en  {'retweeted': False, 'is_quote_status': False,...   \n",
      "3             676    en  Construction of human anti-tetanus single-chai...   \n",
      "4             185    en                                                NaN   \n",
      "\n",
      "   default_profile  default_profile_image                  name  bot  \n",
      "0             True                  False  \"Houston PokŽ Alert\"    1  \n",
      "1             True                  False           Keri Nelson    1  \n",
      "2             True                  False    Matt Lieber Is Bot    1  \n",
      "3             True                   True    single cell papers    1  \n",
      "4            False                  False          lucarivera16    1  \n"
     ]
    }
   ],
   "source": [
    "print(\"First 5 rows of the DataFrame:\" + \"\\n\")\n",
    "print(data.head())"
   ]
  },
  {
   "cell_type": "code",
   "execution_count": 9,
   "id": "24952209",
   "metadata": {},
   "outputs": [
    {
     "name": "stdout",
     "output_type": "stream",
     "text": [
      "Number of rows in our data set is: \n",
      "2672\n",
      "Number of columns in our columns: \n",
      "18\n"
     ]
    }
   ],
   "source": [
    "print(\"Number of rows in our data set is: \")\n",
    "print(data.shape[0])\n",
    "print(\"Number of columns in our columns: \")\n",
    "print(data.shape[1])"
   ]
  },
  {
   "cell_type": "code",
   "execution_count": 10,
   "id": "0548982b",
   "metadata": {},
   "outputs": [
    {
     "name": "stdout",
     "output_type": "stream",
     "text": [
      "id                          0\n",
      "screen_name                 0\n",
      "location                  963\n",
      "description               387\n",
      "url                      1347\n",
      "followers_count             0\n",
      "friends_count               0\n",
      "listed_count                0\n",
      "created_at                  0\n",
      "favourites_count            0\n",
      "verified                    0\n",
      "statuses_count              0\n",
      "lang                        0\n",
      "status                    325\n",
      "default_profile             0\n",
      "default_profile_image       0\n",
      "name                        0\n",
      "bot                         0\n",
      "dtype: int64\n",
      "(2672, 18)\n"
     ]
    }
   ],
   "source": [
    "print(data.isnull().sum()) #finds all the null values\n",
    "print(data.shape)"
   ]
  },
  {
   "cell_type": "code",
   "execution_count": 11,
   "id": "5e2fa70c",
   "metadata": {},
   "outputs": [],
   "source": [
    "#step 3"
   ]
  },
  {
   "cell_type": "code",
   "execution_count": 12,
   "id": "8cea8a25",
   "metadata": {
    "scrolled": true
   },
   "outputs": [
    {
     "name": "stdout",
     "output_type": "stream",
     "text": [
      "There are 2672 rows in our data set. The ones with more than 35% null values are location and url\n",
      "These values hinder more than help our data set. I shall drop them from our data processing\n"
     ]
    }
   ],
   "source": [
    "print(\"There are 2672 rows in our data set. The ones with more than 35% null values are location and url\")\n",
    "print(\"These values hinder more than help our data set. I shall drop them from our data processing\")"
   ]
  },
  {
   "cell_type": "code",
   "execution_count": 13,
   "id": "b2af5acf",
   "metadata": {},
   "outputs": [],
   "source": [
    "data.dropna(thresh = 0.65*data.shape[0], axis = 1, inplace = True) #drops columns instead of rows"
   ]
  },
  {
   "cell_type": "code",
   "execution_count": 14,
   "id": "71856dea",
   "metadata": {
    "scrolled": true
   },
   "outputs": [
    {
     "name": "stdout",
     "output_type": "stream",
     "text": [
      "                id       screen_name  \\\n",
      "0     8.160000e+17  \"HoustonPokeMap\"   \n",
      "1     4.843621e+09         kernyeahx   \n",
      "2     4.303727e+09   mattlieberisbot   \n",
      "3     3.063139e+09         sc_papers   \n",
      "4     2.955142e+09      lucarivera16   \n",
      "...            ...               ...   \n",
      "2667  2.362091e+08     leslieberland   \n",
      "2668  2.545039e+08      SamuelsPants   \n",
      "2669  1.548544e+07       jimmyfallon   \n",
      "2670  7.513869e+08    LocalAlligator   \n",
      "2671  1.992936e+07      RepJoeBarton   \n",
      "\n",
      "                                            description  followers_count  \\\n",
      "0     \"Rare and strong PokŽmon in Houston, TX. See m...             1291   \n",
      "1     From late 2014 Socium Marketplace will make sh...                1   \n",
      "2     Inspired by the smart, funny folks at @replyal...             1086   \n",
      "3                                                   NaN               33   \n",
      "4                Inspiring cooks everywhere since 1956.               11   \n",
      "...                                                 ...              ...   \n",
      "2667  Twitter CMO. Favorite title: Mama. Never, ever...            18998   \n",
      "2668  I live in brooklyn, I'm a bike messenger, I pl...               32   \n",
      "2669                                     astrophysicist         45044433   \n",
      "2670  I'm quite out of my mind, actually, but people...               16   \n",
      "2671  I work for the people of the 6th District of T...            22490   \n",
      "\n",
      "      friends_count  listed_count                        created_at  \\\n",
      "0                 0            10  \"Mon Jan 02 02:25:26 +0000 2017\"   \n",
      "1               349             0                     2/1/2016 7:37   \n",
      "2                 0            14    Fri Nov 20 18:53:22 +0000 2015   \n",
      "3                 0             8                   2/25/2015 20:11   \n",
      "4               745             0                    1/1/2015 17:44   \n",
      "...             ...           ...                               ...   \n",
      "2667           2005           425                    1/10/2011 2:06   \n",
      "2668             54             0    Sat Feb 19 12:12:42 +0000 2011   \n",
      "2669           7451         68157                   7/18/2008 19:46   \n",
      "2670             64             1                   8/11/2012 14:53   \n",
      "2671            308          1342    Mon Feb 02 20:30:20 +0000 2009   \n",
      "\n",
      "      favourites_count  verified  statuses_count  lang  \\\n",
      "0                    0     False           78554  \"en\"   \n",
      "1                   38     False              31    en   \n",
      "2                    0     False             713    en   \n",
      "3                    0     False             676    en   \n",
      "4                  146     False             185    en   \n",
      "...                ...       ...             ...   ...   \n",
      "2667              2503     False            3498    en   \n",
      "2668                 1     False              97    en   \n",
      "2669                24      True            9606    en   \n",
      "2670                15     False              62    en   \n",
      "2671                43      True            1897    en   \n",
      "\n",
      "                                                 status  default_profile  \\\n",
      "0     {\\n      \"created_at\": \"Sun Mar 12 15:44:04 +0...             True   \n",
      "1                                                   NaN             True   \n",
      "2     {'retweeted': False, 'is_quote_status': False,...             True   \n",
      "3     Construction of human anti-tetanus single-chai...             True   \n",
      "4                                                   NaN            False   \n",
      "...                                                 ...              ...   \n",
      "2667  RT @StationCDRKelly: Dreaming of napping in sp...            False   \n",
      "2668  {'geo': None, 'in_reply_to_status_id': None, '...             True   \n",
      "2669  Status(contributors=None, truncated=False, tex...            False   \n",
      "2670  {'created_at': 'Sun Feb 26 15:51:57 +0000 2017...            False   \n",
      "2671  {u'contributors': None, u'truncated': False, u...             True   \n",
      "\n",
      "      default_profile_image                  name  bot  \n",
      "0                     False  \"Houston PokŽ Alert\"    1  \n",
      "1                     False           Keri Nelson    1  \n",
      "2                     False    Matt Lieber Is Bot    1  \n",
      "3                      True    single cell papers    1  \n",
      "4                     False          lucarivera16    1  \n",
      "...                     ...                   ...  ...  \n",
      "2667                  False        Leslie Berland    0  \n",
      "2668                  False    Samuel Littlefield    0  \n",
      "2669                  False          jimmy fallon    0  \n",
      "2670                  False        Tammas Foxdene    0  \n",
      "2671                  False            Joe Barton    0  \n",
      "\n",
      "[2672 rows x 16 columns]\n"
     ]
    }
   ],
   "source": [
    "print(data) #prints an easier to read version of our dataset"
   ]
  },
  {
   "cell_type": "code",
   "execution_count": 15,
   "id": "ca4acb18",
   "metadata": {},
   "outputs": [],
   "source": [
    "#step 4"
   ]
  },
  {
   "cell_type": "code",
   "execution_count": 16,
   "id": "3c29b235",
   "metadata": {
    "scrolled": true
   },
   "outputs": [
    {
     "data": {
      "image/png": "[encoded data removed]",
      "text/plain": [
       "<Figure size 640x480 with 1 Axes>"
      ]
     },
     "metadata": {},
     "output_type": "display_data"
    }
   ],
   "source": [
    "fr_bots = []\n",
    "fl_bots = []\n",
    "fr_norm = []\n",
    "fl_norm = []\n",
    "\n",
    "for i in range(2672):\n",
    "    if(data.iat[i, 15] == 1):\n",
    "        fr_bots.append(data.iat[i, 3])\n",
    "        fl_bots.append(data.iat[i, 4])\n",
    "    else:\n",
    "        fr_norm.append(data.iat[i, 3])\n",
    "        fl_norm.append(data.iat[i, 4])\n",
    "\n",
    "        \n",
    "plt.scatter(fr_norm, fl_norm, label = 'Humans', color = 'orange', marker = 'x')\n",
    "plt.scatter(fr_bots, fl_bots, label = 'Bots', color = 'blue', marker = 'o')\n",
    "plt.xlabel('Friends')\n",
    "plt.ylabel('Followers')\n",
    "plt.title('Friends vs Followers')\n",
    "\n",
    "plt.legend()\n",
    "plt.show()"
   ]
  },
  {
   "cell_type": "code",
   "execution_count": 17,
   "id": "c268be96",
   "metadata": {},
   "outputs": [],
   "source": [
    "#stupid thing I had to do to ensure every null element is empty so it doesn't throw errors\n",
    "for i in range(2672):\n",
    "    if(data.iat[i, 1] == np.NaN):\n",
    "        data.iat[i, 1] = \"\"\n",
    "    if(data.iat[i, 14] == np.NaN):\n",
    "        data.iat[i, 14] = \"\"\n",
    "    if(data.iat[i, 2] == np.NaN):\n",
    "        data.iat[i, 2] = \"\"\n",
    "    if(data.iat[i, 11] == np.NaN):\n",
    "        data.iat[i, 11] = \"\""
   ]
  },
  {
   "cell_type": "code",
   "execution_count": 18,
   "id": "a0fa6473",
   "metadata": {},
   "outputs": [],
   "source": [
    "#step 5"
   ]
  },
  {
   "cell_type": "code",
   "execution_count": 19,
   "id": "3286a992",
   "metadata": {},
   "outputs": [],
   "source": [
    "screen_name_b = [False]*2672\n",
    "name_b = [False]*2672\n",
    "description_b = [False]*2672\n",
    "status_b = [False]*2672"
   ]
  },
  {
   "cell_type": "code",
   "execution_count": 20,
   "id": "70db115c",
   "metadata": {
    "scrolled": true
   },
   "outputs": [],
   "source": [
    "words = [\"bot\", \"follow me\", \"free\", \"fake\", \"virus\", \"troll\", \"clone\", \"tweet me\"]\n",
    "\n",
    "for i in range(2672):\n",
    "    for j in range(8):\n",
    "        if words[j] in (data.iat[i, 1].lower()): #screenname\n",
    "            screen_name_b[i] = True\n",
    "        if words[j] in (data.iat[i, 14].lower()): #name\n",
    "            name_b[i] = True\n",
    "        if words[j] in (str(data.iat[i, 2]).lower()): #description\n",
    "            description_b[i] = True\n",
    "        if words[j] in (str(data.iat[i, 11]).lower()): #status\n",
    "            status_b[i] = True  "
   ]
  },
  {
   "cell_type": "code",
   "execution_count": 21,
   "id": "a3c35e09",
   "metadata": {
    "scrolled": true
   },
   "outputs": [],
   "source": [
    "# for i in range(2672):\n",
    "#     for testing purposes\n",
    "#     print(\"screename: \" + data.iat[i, 1])\n",
    "#     print(\"name: \" + data.iat[i, 14])\n",
    "#     print(\"description: \" + str(data.iat[i, 2]))\n",
    "#     print(\"status: \" + str(data.iat[i, 12]))"
   ]
  },
  {
   "cell_type": "code",
   "execution_count": 22,
   "id": "77d3ff73",
   "metadata": {},
   "outputs": [],
   "source": [
    "#now that we have our lists, we can make a column, where each cell in a row corresponds to an index in its respective column "
   ]
  },
  {
   "cell_type": "code",
   "execution_count": 23,
   "id": "ebe3460b",
   "metadata": {},
   "outputs": [],
   "source": [
    "#added empty columns\n",
    "data['screen_name_binary'] = None\n",
    "data['name_binary'] = None\n",
    "data['description_binary'] = None\n",
    "data['status_binary'] = None"
   ]
  },
  {
   "cell_type": "code",
   "execution_count": 24,
   "id": "a7190d3f",
   "metadata": {
    "scrolled": false
   },
   "outputs": [],
   "source": [
    "for i in range(2672):\n",
    "    data.iat[i, 16] = screen_name_b[i]\n",
    "    data.iat[i, 17] = name_b[i]\n",
    "    data.iat[i, 18] = description_b[i]\n",
    "    data.iat[i, 19] = status_b[i]\n",
    "    \n",
    "#print(data)"
   ]
  },
  {
   "cell_type": "code",
   "execution_count": 25,
   "id": "33616c50",
   "metadata": {},
   "outputs": [],
   "source": [
    "#part 6"
   ]
  },
  {
   "cell_type": "code",
   "execution_count": 26,
   "id": "6fa569e8",
   "metadata": {
    "scrolled": true
   },
   "outputs": [],
   "source": [
    "selected_features = ['friends_count', 'bot', 'followers_count', 'screen_name_binary', 'name_binary', 'status_binary', 'verified', 'statuses_count']\n",
    "data_subset = data[selected_features]\n",
    "\n",
    "#features that are inputs:\n",
    "# friends_count, followers_count, verified screen_name_binary, name_binary, status_binary, status_count\n",
    "#features that are output(s): bot"
   ]
  },
  {
   "cell_type": "code",
   "execution_count": 27,
   "id": "12d0e821",
   "metadata": {
    "scrolled": true
   },
   "outputs": [],
   "source": [
    "#step 6, part 3\n",
    "X = data_subset[['friends_count', 'verified', 'followers_count', 'screen_name_binary', 'name_binary', 'status_binary', 'statuses_count']]\n",
    "y = data_subset['bot']"
   ]
  },
  {
   "cell_type": "code",
   "execution_count": 28,
   "id": "3cca8f23",
   "metadata": {
    "scrolled": false
   },
   "outputs": [],
   "source": [
    "#step 6, part 4\n",
    "#split the data into 70% training and 30% testing\n",
    "X_train, X_test, y_train, y_test = train_test_split(X, y, test_size = 0.3)"
   ]
  },
  {
   "cell_type": "code",
   "execution_count": 29,
   "id": "41efd933",
   "metadata": {
    "scrolled": false
   },
   "outputs": [
    {
     "data": {
      "text/html": [
       "<style>#sk-container-id-1 {color: black;}#sk-container-id-1 pre{padding: 0;}#sk-container-id-1 div.sk-toggleable {background-color: white;}#sk-container-id-1 label.sk-toggleable__label {cursor: pointer;display: block;width: 100%;margin-bottom: 0;padding: 0.3em;box-sizing: border-box;text-align: center;}#sk-container-id-1 label.sk-toggleable__label-arrow:before {content: \"▸\";float: left;margin-right: 0.25em;color: #696969;}#sk-container-id-1 label.sk-toggleable__label-arrow:hover:before {color: black;}#sk-container-id-1 div.sk-estimator:hover label.sk-toggleable__label-arrow:before {color: black;}#sk-container-id-1 div.sk-toggleable__content {max-height: 0;max-width: 0;overflow: hidden;text-align: left;background-color: #f0f8ff;}#sk-container-id-1 div.sk-toggleable__content pre {margin: 0.2em;color: black;border-radius: 0.25em;background-color: #f0f8ff;}#sk-container-id-1 input.sk-toggleable__control:checked~div.sk-toggleable__content {max-height: 200px;max-width: 100%;overflow: auto;}#sk-container-id-1 input.sk-toggleable__control:checked~label.sk-toggleable__label-arrow:before {content: \"▾\";}#sk-container-id-1 div.sk-estimator input.sk-toggleable__control:checked~label.sk-toggleable__label {background-color: #d4ebff;}#sk-container-id-1 div.sk-label input.sk-toggleable__control:checked~label.sk-toggleable__label {background-color: #d4ebff;}#sk-container-id-1 input.sk-hidden--visually {border: 0;clip: rect(1px 1px 1px 1px);clip: rect(1px, 1px, 1px, 1px);height: 1px;margin: -1px;overflow: hidden;padding: 0;position: absolute;width: 1px;}#sk-container-id-1 div.sk-estimator {font-family: monospace;background-color: #f0f8ff;border: 1px dotted black;border-radius: 0.25em;box-sizing: border-box;margin-bottom: 0.5em;}#sk-container-id-1 div.sk-estimator:hover {background-color: #d4ebff;}#sk-container-id-1 div.sk-parallel-item::after {content: \"\";width: 100%;border-bottom: 1px solid gray;flex-grow: 1;}#sk-container-id-1 div.sk-label:hover label.sk-toggleable__label {background-color: #d4ebff;}#sk-container-id-1 div.sk-serial::before {content: \"\";position: absolute;border-left: 1px solid gray;box-sizing: border-box;top: 0;bottom: 0;left: 50%;z-index: 0;}#sk-container-id-1 div.sk-serial {display: flex;flex-direction: column;align-items: center;background-color: white;padding-right: 0.2em;padding-left: 0.2em;position: relative;}#sk-container-id-1 div.sk-item {position: relative;z-index: 1;}#sk-container-id-1 div.sk-parallel {display: flex;align-items: stretch;justify-content: center;background-color: white;position: relative;}#sk-container-id-1 div.sk-item::before, #sk-container-id-1 div.sk-parallel-item::before {content: \"\";position: absolute;border-left: 1px solid gray;box-sizing: border-box;top: 0;bottom: 0;left: 50%;z-index: -1;}#sk-container-id-1 div.sk-parallel-item {display: flex;flex-direction: column;z-index: 1;position: relative;background-color: white;}#sk-container-id-1 div.sk-parallel-item:first-child::after {align-self: flex-end;width: 50%;}#sk-container-id-1 div.sk-parallel-item:last-child::after {align-self: flex-start;width: 50%;}#sk-container-id-1 div.sk-parallel-item:only-child::after {width: 0;}#sk-container-id-1 div.sk-dashed-wrapped {border: 1px dashed gray;margin: 0 0.4em 0.5em 0.4em;box-sizing: border-box;padding-bottom: 0.4em;background-color: white;}#sk-container-id-1 div.sk-label label {font-family: monospace;font-weight: bold;display: inline-block;line-height: 1.2em;}#sk-container-id-1 div.sk-label-container {text-align: center;}#sk-container-id-1 div.sk-container {/* jupyter's `normalize.less` sets `[hidden] { display: none; }` but bootstrap.min.css set `[hidden] { display: none !important; }` so we also need the `!important` here to be able to override the default hidden behavior on the sphinx rendered scikit-learn.org. See: https://github.com/scikit-learn/scikit-learn/issues/21755 */display: inline-block !important;position: relative;}#sk-container-id-1 div.sk-text-repr-fallback {display: none;}</style><div id=\"sk-container-id-1\" class=\"sk-top-container\"><div class=\"sk-text-repr-fallback\"><pre>DecisionTreeClassifier(criterion=&#x27;entropy&#x27;)</pre><b>In a Jupyter environment, please rerun this cell to show the HTML representation or trust the notebook. <br />On GitHub, the HTML representation is unable to render, please try loading this page with nbviewer.org.</b></div><div class=\"sk-container\" hidden><div class=\"sk-item\"><div class=\"sk-estimator sk-toggleable\"><input class=\"sk-toggleable__control sk-hidden--visually\" id=\"sk-estimator-id-1\" type=\"checkbox\" checked><label for=\"sk-estimator-id-1\" class=\"sk-toggleable__label sk-toggleable__label-arrow\">DecisionTreeClassifier</label><div class=\"sk-toggleable__content\"><pre>DecisionTreeClassifier(criterion=&#x27;entropy&#x27;)</pre></div></div></div></div></div>"
      ],
      "text/plain": [
       "DecisionTreeClassifier(criterion='entropy')"
      ]
     },
     "execution_count": 29,
     "metadata": {},
     "output_type": "execute_result"
    }
   ],
   "source": [
    "from sklearn import tree\n",
    "\n",
    "clf = tree.DecisionTreeClassifier(criterion='entropy')\n",
    "clf.fit(X_train,y_train)"
   ]
  },
  {
   "cell_type": "code",
   "execution_count": 30,
   "id": "d81d63bf",
   "metadata": {},
   "outputs": [
    {
     "name": "stdout",
     "output_type": "stream",
     "text": [
      "Training accuracy:  0.9994652406417113\n",
      "Test accuracy:  0.8553615960099751\n"
     ]
    }
   ],
   "source": [
    "from sklearn.metrics import accuracy_score\n",
    "\n",
    "train_pred = clf.predict(X_train)\n",
    "print(\"Training accuracy: \", accuracy_score(y_train, train_pred))\n",
    "\n",
    "test_pred = clf.predict(X_test)\n",
    "print(\"Test accuracy: \", accuracy_score(y_test, test_pred))"
   ]
  },
  {
   "cell_type": "code",
   "execution_count": null,
   "id": "1b43ec41",
   "metadata": {},
   "outputs": [],
   "source": []
  }
 ],
 "metadata": {
  "kernelspec": {
   "display_name": "Python 3 (ipykernel)",
   "language": "python",
   "name": "python3"
  },
  "language_info": {
   "codemirror_mode": {
    "name": "ipython",
    "version": 3
   },
   "file_extension": ".py",
   "mimetype": "text/x-python",
   "name": "python",
   "nbconvert_exporter": "python",
   "pygments_lexer": "ipython3",
   "version": "3.11.5"
  }
 },
 "nbformat": 4,
 "nbformat_minor": 5
}
